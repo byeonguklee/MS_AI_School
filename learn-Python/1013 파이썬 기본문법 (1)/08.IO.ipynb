{
 "cells": [
  {
   "cell_type": "code",
   "execution_count": 1,
   "id": "98f055de",
   "metadata": {},
   "outputs": [
    {
     "name": "stdout",
     "output_type": "stream",
     "text": [
      "Hello World\n"
     ]
    }
   ],
   "source": [
    "print('Hello World')"
   ]
  },
  {
   "cell_type": "code",
   "execution_count": 2,
   "id": "3cd2fda0",
   "metadata": {},
   "outputs": [],
   "source": [
    "import sys"
   ]
  },
  {
   "cell_type": "code",
   "execution_count": 5,
   "id": "5e80b590",
   "metadata": {},
   "outputs": [
    {
     "name": "stderr",
     "output_type": "stream",
     "text": [
      "Welcome to  Python\n"
     ]
    }
   ],
   "source": [
    "print('Welcome to',' Python', file=sys.stderr)"
   ]
  },
  {
   "cell_type": "code",
   "execution_count": 6,
   "id": "5e9ec206",
   "metadata": {},
   "outputs": [],
   "source": [
    "f = open('test.txt','w') #'w'쓰기모드"
   ]
  },
  {
   "cell_type": "code",
   "execution_count": 7,
   "id": "0fcfa0f0",
   "metadata": {},
   "outputs": [],
   "source": [
    "print('file write', file=f) # f의 txt 파일로 출력\n",
    "f.close() # 열고 난 후에 닫아주기"
   ]
  },
  {
   "cell_type": "markdown",
   "id": "22db4482",
   "metadata": {},
   "source": [
    "## file IO\n",
    "file 입출력을 다루다 보면 print를 사용할 수도 있지만 open을 사용하는게 좋다."
   ]
  },
  {
   "cell_type": "code",
   "execution_count": 8,
   "id": "d7a7bf0f",
   "metadata": {},
   "outputs": [],
   "source": [
    "f = open('test.txt','w')\n",
    "f.write('plow deep \\nwhile sluggards sleep')\n",
    "f.close()"
   ]
  },
  {
   "cell_type": "code",
   "execution_count": 14,
   "id": "56157719",
   "metadata": {},
   "outputs": [],
   "source": [
    "f = open('test.txt','r') # 'r'읽기모드\n",
    "f.read()"
   ]
  },
  {
   "cell_type": "code",
   "execution_count": null,
   "id": "f471b3f3",
   "metadata": {},
   "outputs": [],
   "source": [
    "f.close()"
   ]
  },
  {
   "cell_type": "code",
   "execution_count": null,
   "id": "c5d2e32a",
   "metadata": {},
   "outputs": [],
   "source": []
  }
 ],
 "metadata": {
  "kernelspec": {
   "display_name": "Python 3 (ipykernel)",
   "language": "python",
   "name": "python3"
  },
  "language_info": {
   "codemirror_mode": {
    "name": "ipython",
    "version": 3
   },
   "file_extension": ".py",
   "mimetype": "text/x-python",
   "name": "python",
   "nbconvert_exporter": "python",
   "pygments_lexer": "ipython3",
   "version": "3.9.12"
  }
 },
 "nbformat": 4,
 "nbformat_minor": 5
}
