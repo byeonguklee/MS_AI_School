{
 "cells": [
  {
   "cell_type": "code",
   "execution_count": 1,
   "id": "d0d92ee8",
   "metadata": {},
   "outputs": [],
   "source": [
    "class MyClass: # class는 속성과 동작을 부여할 수 있음\n",
    "    pass # 기능 구현 없이 넘어감"
   ]
  },
  {
   "cell_type": "code",
   "execution_count": 2,
   "id": "e4c96f82",
   "metadata": {},
   "outputs": [
    {
     "data": {
      "text/plain": [
       "__main__.MyClass"
      ]
     },
     "execution_count": 2,
     "metadata": {},
     "output_type": "execute_result"
    }
   ],
   "source": [
    "MyClass"
   ]
  },
  {
   "cell_type": "code",
   "execution_count": 3,
   "id": "d5441c11",
   "metadata": {},
   "outputs": [
    {
     "data": {
      "text/plain": [
       "type"
      ]
     },
     "execution_count": 3,
     "metadata": {},
     "output_type": "execute_result"
    }
   ],
   "source": [
    "type(MyClass)"
   ]
  },
  {
   "cell_type": "code",
   "execution_count": 4,
   "id": "c61180c4",
   "metadata": {},
   "outputs": [],
   "source": [
    "class Person:\n",
    "    Name = 'Default Name' # 속성(Perperty)\n",
    "    \n",
    "    def Print(self): # 동작(함수를 사용), class의 속성은 self\n",
    "        print('My name is {0}'.format(self.Name))"
   ]
  },
  {
   "cell_type": "code",
   "execution_count": 5,
   "id": "48a905c9",
   "metadata": {},
   "outputs": [],
   "source": [
    "son = Person() "
   ]
  },
  {
   "cell_type": "code",
   "execution_count": 6,
   "id": "c6a33f89",
   "metadata": {},
   "outputs": [
    {
     "name": "stdout",
     "output_type": "stream",
     "text": [
      "My name is 손흥민\n"
     ]
    }
   ],
   "source": [
    "son.Name = '손흥민' \n",
    "son.Print()"
   ]
  },
  {
   "cell_type": "code",
   "execution_count": 7,
   "id": "4a766821",
   "metadata": {},
   "outputs": [],
   "source": [
    "p1 = Person()\n",
    "p2 = Person()"
   ]
  },
  {
   "cell_type": "code",
   "execution_count": 8,
   "id": "5f5ff64a",
   "metadata": {},
   "outputs": [],
   "source": [
    "p1.Name = '박보검'\n",
    "p2.Name = '민아'"
   ]
  },
  {
   "cell_type": "code",
   "execution_count": 9,
   "id": "63028a36",
   "metadata": {},
   "outputs": [
    {
     "name": "stdout",
     "output_type": "stream",
     "text": [
      "My name is 박보검\n",
      "My name is 민아\n"
     ]
    }
   ],
   "source": [
    "p1.Print()\n",
    "p2.Print()"
   ]
  },
  {
   "cell_type": "code",
   "execution_count": 10,
   "id": "a8ee7372",
   "metadata": {},
   "outputs": [],
   "source": [
    "# instance: class를 사용해서 만든 객체"
   ]
  },
  {
   "cell_type": "code",
   "execution_count": 11,
   "id": "874bc0d7",
   "metadata": {},
   "outputs": [],
   "source": [
    "Person.title = 'New title' # Class에 새로운 속성 적용 가능"
   ]
  },
  {
   "cell_type": "code",
   "execution_count": 12,
   "id": "ed4b5644",
   "metadata": {},
   "outputs": [
    {
     "data": {
      "text/plain": [
       "'New title'"
      ]
     },
     "execution_count": 12,
     "metadata": {},
     "output_type": "execute_result"
    }
   ],
   "source": [
    "p1.title # 모든 인스턴스에 적용 됨"
   ]
  },
  {
   "cell_type": "code",
   "execution_count": 13,
   "id": "9f6e34f4",
   "metadata": {},
   "outputs": [],
   "source": [
    "p1.age = 20 # 인스턴스에만 속성을 추가할 수 있지만.."
   ]
  },
  {
   "cell_type": "code",
   "execution_count": 14,
   "id": "63b0a4b7",
   "metadata": {},
   "outputs": [
    {
     "ename": "AttributeError",
     "evalue": "type object 'Person' has no attribute 'age'",
     "output_type": "error",
     "traceback": [
      "\u001b[1;31m---------------------------------------------------------------------------\u001b[0m",
      "\u001b[1;31mAttributeError\u001b[0m                            Traceback (most recent call last)",
      "Input \u001b[1;32mIn [14]\u001b[0m, in \u001b[0;36m<cell line: 1>\u001b[1;34m()\u001b[0m\n\u001b[1;32m----> 1\u001b[0m \u001b[43mPerson\u001b[49m\u001b[38;5;241;43m.\u001b[39;49m\u001b[43mage\u001b[49m\n",
      "\u001b[1;31mAttributeError\u001b[0m: type object 'Person' has no attribute 'age'"
     ]
    }
   ],
   "source": [
    "Person.age # 인스턴스에 추가할 경우 상위 Class에 적용 안됨"
   ]
  },
  {
   "cell_type": "code",
   "execution_count": 15,
   "id": "3f9dd000",
   "metadata": {},
   "outputs": [
    {
     "ename": "AttributeError",
     "evalue": "'Person' object has no attribute 'age'",
     "output_type": "error",
     "traceback": [
      "\u001b[1;31m---------------------------------------------------------------------------\u001b[0m",
      "\u001b[1;31mAttributeError\u001b[0m                            Traceback (most recent call last)",
      "Input \u001b[1;32mIn [15]\u001b[0m, in \u001b[0;36m<cell line: 1>\u001b[1;34m()\u001b[0m\n\u001b[1;32m----> 1\u001b[0m \u001b[43mp2\u001b[49m\u001b[38;5;241;43m.\u001b[39;49m\u001b[43mage\u001b[49m\n",
      "\u001b[1;31mAttributeError\u001b[0m: 'Person' object has no attribute 'age'"
     ]
    }
   ],
   "source": [
    "p2.age # 같은 인스턴트끼리도 적용 안됨. 그러므로 사용하지 말자."
   ]
  },
  {
   "cell_type": "code",
   "execution_count": 16,
   "id": "1dc9d5e6",
   "metadata": {},
   "outputs": [],
   "source": [
    "# 클래스의 상속\n",
    "\n",
    "class Person:\n",
    "    pass"
   ]
  },
  {
   "cell_type": "code",
   "execution_count": 17,
   "id": "8db7b1af",
   "metadata": {},
   "outputs": [],
   "source": [
    "class Bird:\n",
    "    pass"
   ]
  },
  {
   "cell_type": "code",
   "execution_count": 18,
   "id": "95dc4cd2",
   "metadata": {},
   "outputs": [],
   "source": [
    "class Student(Person): # Student는 Person에서 상속 받음\n",
    "    pass"
   ]
  },
  {
   "cell_type": "code",
   "execution_count": 19,
   "id": "a36e745f",
   "metadata": {},
   "outputs": [],
   "source": [
    "p = Person()\n",
    "s = Student()"
   ]
  },
  {
   "cell_type": "code",
   "execution_count": 20,
   "id": "f05c18b2",
   "metadata": {},
   "outputs": [
    {
     "data": {
      "text/plain": [
       "True"
      ]
     },
     "execution_count": 20,
     "metadata": {},
     "output_type": "execute_result"
    }
   ],
   "source": [
    "isinstance(p, Person)"
   ]
  },
  {
   "cell_type": "code",
   "execution_count": 21,
   "id": "8f5961c6",
   "metadata": {},
   "outputs": [
    {
     "data": {
      "text/plain": [
       "True"
      ]
     },
     "execution_count": 21,
     "metadata": {},
     "output_type": "execute_result"
    }
   ],
   "source": [
    "isinstance(s, Person) # 상속 받았기 때문에 상위 Class도 포함"
   ]
  },
  {
   "cell_type": "code",
   "execution_count": 22,
   "id": "dd856eb8",
   "metadata": {},
   "outputs": [
    {
     "data": {
      "text/plain": [
       "True"
      ]
     },
     "execution_count": 22,
     "metadata": {},
     "output_type": "execute_result"
    }
   ],
   "source": [
    "isinstance(s, object) # 모든 객체는 object"
   ]
  },
  {
   "cell_type": "code",
   "execution_count": 23,
   "id": "1af40608",
   "metadata": {},
   "outputs": [
    {
     "data": {
      "text/plain": [
       "False"
      ]
     },
     "execution_count": 23,
     "metadata": {},
     "output_type": "execute_result"
    }
   ],
   "source": [
    "isinstance(p, Bird)"
   ]
  },
  {
   "cell_type": "code",
   "execution_count": 24,
   "id": "8efaadcb",
   "metadata": {},
   "outputs": [],
   "source": [
    "#class diagram: class의 상관관계를 다이어그램으로 표현"
   ]
  },
  {
   "cell_type": "code",
   "execution_count": 25,
   "id": "0e393222",
   "metadata": {},
   "outputs": [],
   "source": [
    "#생성자, 소멸자 / class가 생성됬을때 실행, 소멸됬을때 실행\n",
    "\n",
    "class Myclass:\n",
    "    \n",
    "    #생성자\n",
    "    def __init__(self, value): # value는 변수 이름\n",
    "        self.Value = value\n",
    "        print('Class is Created! Value =', value)\n",
    "        \n",
    "    #소멸자\n",
    "    def __del__(self):\n",
    "        print('Class is deleted..')"
   ]
  },
  {
   "cell_type": "code",
   "execution_count": 26,
   "id": "25dac026",
   "metadata": {},
   "outputs": [
    {
     "name": "stdout",
     "output_type": "stream",
     "text": [
      "Class is Created! Value = 10\n"
     ]
    }
   ],
   "source": [
    "m = Myclass(10) # 10은 value 값"
   ]
  },
  {
   "cell_type": "code",
   "execution_count": 27,
   "id": "d33620b6",
   "metadata": {},
   "outputs": [
    {
     "name": "stdout",
     "output_type": "stream",
     "text": [
      "Class is deleted..\n"
     ]
    }
   ],
   "source": [
    "del m"
   ]
  },
  {
   "cell_type": "code",
   "execution_count": 51,
   "id": "535ba4cc",
   "metadata": {},
   "outputs": [],
   "source": [
    "# 정적 메소드\n",
    "\n",
    "class CounterManager:\n",
    "    insCount = 0\n",
    "    \n",
    "    def __init__(self):\n",
    "        CounterManger.insCount += 1\n",
    "\n",
    "    def printInstanceCount():\n",
    "        print('Instance Count:', CounterManger.insCount)"
   ]
  },
  {
   "cell_type": "code",
   "execution_count": 53,
   "id": "1d0ea487",
   "metadata": {
    "scrolled": false
   },
   "outputs": [
    {
     "ename": "NameError",
     "evalue": "name 'CounterManger' is not defined",
     "output_type": "error",
     "traceback": [
      "\u001b[1;31m---------------------------------------------------------------------------\u001b[0m",
      "\u001b[1;31mNameError\u001b[0m                                 Traceback (most recent call last)",
      "Input \u001b[1;32mIn [53]\u001b[0m, in \u001b[0;36m<cell line: 3>\u001b[1;34m()\u001b[0m\n\u001b[0;32m      1\u001b[0m \u001b[38;5;66;03m# a, b, c = CounterManager(), CounterManager(), CounterManager()\u001b[39;00m\n\u001b[1;32m----> 3\u001b[0m a \u001b[38;5;241m=\u001b[39m \u001b[43mCounterManager\u001b[49m\u001b[43m(\u001b[49m\u001b[43m)\u001b[49m\n\u001b[0;32m      4\u001b[0m b \u001b[38;5;241m=\u001b[39m CounterManager()\n\u001b[0;32m      5\u001b[0m c \u001b[38;5;241m=\u001b[39m CounterManager()\n",
      "Input \u001b[1;32mIn [51]\u001b[0m, in \u001b[0;36mCounterManager.__init__\u001b[1;34m(self)\u001b[0m\n\u001b[0;32m      6\u001b[0m \u001b[38;5;28;01mdef\u001b[39;00m \u001b[38;5;21m__init__\u001b[39m(\u001b[38;5;28mself\u001b[39m):\n\u001b[1;32m----> 7\u001b[0m     \u001b[43mCounterManger\u001b[49m\u001b[38;5;241m.\u001b[39minsCount \u001b[38;5;241m+\u001b[39m\u001b[38;5;241m=\u001b[39m \u001b[38;5;241m1\u001b[39m\n",
      "\u001b[1;31mNameError\u001b[0m: name 'CounterManger' is not defined"
     ]
    }
   ],
   "source": [
    "# a, b, c = CounterManager(), CounterManager(), CounterManager()\n",
    "\n",
    "a = CounterManager()\n",
    "b = CounterManager()\n",
    "c = CounterManager()"
   ]
  },
  {
   "cell_type": "code",
   "execution_count": 30,
   "id": "724fca3d",
   "metadata": {},
   "outputs": [],
   "source": [
    "# 상속의 확장\n",
    "\n",
    "class Person:\n",
    "    def __init__(self, name, phone):\n",
    "        self.Name = name\n",
    "        self.Phone = phone\n",
    "    \n",
    "    def PrintInfo(self):\n",
    "        print('Info (Name: {0}, Phone: {1})'.format(self.Name, self.Phone))\n",
    "        \n",
    "    def PrintPersonData(self):\n",
    "        print('Person (Name: {0}, Phone: {1})'.format(self.Name, self.Phone))\n",
    "             "
   ]
  },
  {
   "cell_type": "code",
   "execution_count": 31,
   "id": "5fc07989",
   "metadata": {},
   "outputs": [],
   "source": [
    "class Student(Person):\n",
    "    \n",
    "    def __init__ (self, name, phone, subject, studentID):\n",
    "        self.Name = name\n",
    "        self.Phone = phone\n",
    "        self.Subject = subject\n",
    "        self.StudentID = studentID\n",
    "        \n",
    "    def PrintStudentID(self):\n",
    "        print(self.StudentID)"
   ]
  },
  {
   "cell_type": "code",
   "execution_count": 32,
   "id": "85781548",
   "metadata": {},
   "outputs": [],
   "source": [
    "p = Person('IU', '010-0000-0000')\n",
    "s = Student('MinA', '010-1111-1111', 'Computer Science', '0000000')"
   ]
  },
  {
   "cell_type": "code",
   "execution_count": 33,
   "id": "800a7250",
   "metadata": {},
   "outputs": [
    {
     "data": {
      "text/plain": [
       "{'Name': 'IU', 'Phone': '010-0000-0000'}"
      ]
     },
     "execution_count": 33,
     "metadata": {},
     "output_type": "execute_result"
    }
   ],
   "source": [
    "p.__dict__ #dict로 확인 가능"
   ]
  },
  {
   "cell_type": "code",
   "execution_count": 34,
   "id": "4ea63ec9",
   "metadata": {},
   "outputs": [
    {
     "data": {
      "text/plain": [
       "{'Name': 'MinA',\n",
       " 'Phone': '010-1111-1111',\n",
       " 'Subject': 'Computer Science',\n",
       " 'StudentID': '0000000'}"
      ]
     },
     "execution_count": 34,
     "metadata": {},
     "output_type": "execute_result"
    }
   ],
   "source": [
    "s.__dict__"
   ]
  },
  {
   "cell_type": "code",
   "execution_count": 35,
   "id": "5fac9dc0",
   "metadata": {},
   "outputs": [
    {
     "name": "stdout",
     "output_type": "stream",
     "text": [
      "Info (Name: IU, Phone: 010-0000-0000)\n"
     ]
    }
   ],
   "source": [
    "p.PrintInfo()"
   ]
  },
  {
   "cell_type": "code",
   "execution_count": 36,
   "id": "f6d69c09",
   "metadata": {},
   "outputs": [
    {
     "name": "stdout",
     "output_type": "stream",
     "text": [
      "Info (Name: MinA, Phone: 010-1111-1111)\n"
     ]
    }
   ],
   "source": [
    "s.PrintInfo()"
   ]
  },
  {
   "cell_type": "code",
   "execution_count": 37,
   "id": "d89953f9",
   "metadata": {},
   "outputs": [
    {
     "name": "stdout",
     "output_type": "stream",
     "text": [
      "0000000\n"
     ]
    }
   ],
   "source": [
    "s.PrintStudentID()"
   ]
  },
  {
   "cell_type": "code",
   "execution_count": 38,
   "id": "c89af619",
   "metadata": {},
   "outputs": [
    {
     "data": {
      "text/plain": [
       "True"
      ]
     },
     "execution_count": 38,
     "metadata": {},
     "output_type": "execute_result"
    }
   ],
   "source": [
    "# 상속 관계의 확인\n",
    "\n",
    "issubclass(Student, Person)"
   ]
  },
  {
   "cell_type": "code",
   "execution_count": 39,
   "id": "90540af6",
   "metadata": {},
   "outputs": [
    {
     "data": {
      "text/plain": [
       "False"
      ]
     },
     "execution_count": 39,
     "metadata": {},
     "output_type": "execute_result"
    }
   ],
   "source": [
    "issubclass(Person, Student)"
   ]
  },
  {
   "cell_type": "code",
   "execution_count": 40,
   "id": "e1f83b38",
   "metadata": {},
   "outputs": [],
   "source": [
    "# 다중 상속 (관계가 얽히기 때문에 사용하지 않는게 좋다.)\n",
    "\n",
    "class Tiger:\n",
    "    def Jump(self):\n",
    "        print('Tiger Jump!')"
   ]
  },
  {
   "cell_type": "code",
   "execution_count": 41,
   "id": "e5413444",
   "metadata": {},
   "outputs": [],
   "source": [
    "class Lion:\n",
    "    def Bite(self):\n",
    "        print('Lion Bite!')"
   ]
  },
  {
   "cell_type": "code",
   "execution_count": 42,
   "id": "ba3aa7e1",
   "metadata": {},
   "outputs": [],
   "source": [
    "class Liger(Tiger, Lion):\n",
    "    def Play(self):\n",
    "        print('Liger the Player!')"
   ]
  },
  {
   "cell_type": "code",
   "execution_count": 43,
   "id": "967782c7",
   "metadata": {},
   "outputs": [],
   "source": [
    "l = Liger()"
   ]
  },
  {
   "cell_type": "code",
   "execution_count": 44,
   "id": "d37e12ef",
   "metadata": {},
   "outputs": [
    {
     "name": "stdout",
     "output_type": "stream",
     "text": [
      "Tiger Jump!\n"
     ]
    }
   ],
   "source": [
    "l.Jump() # Tiger꺼"
   ]
  },
  {
   "cell_type": "code",
   "execution_count": 45,
   "id": "e55579b6",
   "metadata": {},
   "outputs": [
    {
     "name": "stdout",
     "output_type": "stream",
     "text": [
      "Lion Bite!\n"
     ]
    }
   ],
   "source": [
    "l.Bite() # Lion 꺼"
   ]
  },
  {
   "cell_type": "code",
   "execution_count": 46,
   "id": "cd1a5c80",
   "metadata": {},
   "outputs": [
    {
     "name": "stdout",
     "output_type": "stream",
     "text": [
      "Liger the Player!\n"
     ]
    }
   ],
   "source": [
    "l.Play() # Liger 꺼"
   ]
  },
  {
   "cell_type": "code",
   "execution_count": null,
   "id": "7f55b623",
   "metadata": {},
   "outputs": [],
   "source": []
  }
 ],
 "metadata": {
  "kernelspec": {
   "display_name": "Python 3 (ipykernel)",
   "language": "python",
   "name": "python3"
  },
  "language_info": {
   "codemirror_mode": {
    "name": "ipython",
    "version": 3
   },
   "file_extension": ".py",
   "mimetype": "text/x-python",
   "name": "python",
   "nbconvert_exporter": "python",
   "pygments_lexer": "ipython3",
   "version": "3.9.12"
  }
 },
 "nbformat": 4,
 "nbformat_minor": 5
}
