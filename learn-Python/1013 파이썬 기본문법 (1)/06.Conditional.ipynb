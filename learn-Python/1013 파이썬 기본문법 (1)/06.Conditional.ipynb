{
 "cells": [
  {
   "cell_type": "code",
   "execution_count": 15,
   "id": "b665bc52",
   "metadata": {},
   "outputs": [
    {
     "name": "stdout",
     "output_type": "stream",
     "text": [
      "a와 b의 값이 같습니다.\n"
     ]
    }
   ],
   "source": [
    "a = 1\n",
    "b = 1\n",
    "\n",
    "if a==b:\n",
    "    print('a와 b의 값이 같습니다.')\n",
    "    \n",
    "if a!=b:\n",
    "    print('a와 b의 값이 다릅니다.')"
   ]
  },
  {
   "cell_type": "code",
   "execution_count": 20,
   "id": "ce8dcc83",
   "metadata": {},
   "outputs": [
    {
     "name": "stdout",
     "output_type": "stream",
     "text": [
      "a와 b의 값이 같습니다.\n"
     ]
    }
   ],
   "source": [
    "a = 1\n",
    "b = 1\n",
    "\n",
    "if a==b:\n",
    "    print('a와 b의 값이 같습니다.')\n",
    "    \n",
    "else:\n",
    "    print('a와 b의 값이 다릅니다.')"
   ]
  },
  {
   "cell_type": "code",
   "execution_count": null,
   "id": "8b8308d9",
   "metadata": {},
   "outputs": [],
   "source": [
    "a = 1\n",
    "b = 2\n",
    "\n",
    "if a==b:\n",
    "    print('a와 b는 값이 같습니다.')\n",
    "elif a>b:\n",
    "    print('a가 b보다 큽니다.')\n",
    "    "
   ]
  },
  {
   "cell_type": "code",
   "execution_count": null,
   "id": "68f8f6eb",
   "metadata": {},
   "outputs": [],
   "source": []
  }
 ],
 "metadata": {
  "kernelspec": {
   "display_name": "Python 3 (ipykernel)",
   "language": "python",
   "name": "python3"
  },
  "language_info": {
   "codemirror_mode": {
    "name": "ipython",
    "version": 3
   },
   "file_extension": ".py",
   "mimetype": "text/x-python",
   "name": "python",
   "nbconvert_exporter": "python",
   "pygments_lexer": "ipython3",
   "version": "3.9.12"
  }
 },
 "nbformat": 4,
 "nbformat_minor": 5
}
